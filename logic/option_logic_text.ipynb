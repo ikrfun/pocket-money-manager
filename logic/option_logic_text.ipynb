{
 "cells": [
  {
   "cell_type": "code",
   "execution_count": 23,
   "metadata": {},
   "outputs": [],
   "source": [
    "DB_PATH = r\"C:\\Users\\ikrfu\\pocket-money-manager\\logic\\db.csv\"\n",
    "OPTION_DB_PATH = r\"C:\\Users\\ikrfu\\pocket-money-manager\\logic\\option_db.csv\""
   ]
  },
  {
   "cell_type": "code",
   "execution_count": 24,
   "metadata": {},
   "outputs": [],
   "source": [
    "import pandas as pd\n",
    "import datetime as dt"
   ]
  },
  {
   "cell_type": "code",
   "execution_count": 25,
   "metadata": {},
   "outputs": [],
   "source": [
    "def subsc_init():\n",
    "    df = pd.DataFrame(\n",
    "        [[dt.datetime.today(),\"init\",0,True]],\n",
    "        columns=[\"date\",\"name\",\"price\",\"active\"]\n",
    "    )\n",
    "    df = df.set_index(\"date\")\n",
    "    print(df)\n",
    "    df.to_csv(OPTION_DB_PATH)\n"
   ]
  },
  {
   "cell_type": "code",
   "execution_count": 26,
   "metadata": {},
   "outputs": [
    {
     "name": "stdout",
     "output_type": "stream",
     "text": [
      "                            name  price  active\n",
      "date                                           \n",
      "2022-03-05 17:38:41.088546  init      0    True\n"
     ]
    }
   ],
   "source": [
    "subsc_init()"
   ]
  },
  {
   "cell_type": "code",
   "execution_count": 27,
   "metadata": {},
   "outputs": [],
   "source": [
    "def add_subscription(name,price,active = True):\n",
    "    df = pd.read_csv(OPTION_DB_PATH,index_col=\"date\")\n",
    "    new_df = pd.DataFrame(\n",
    "        [[dt.datetime.today(),name,price,active]],\n",
    "        columns=[\"date\",\"name\",\"price\",\"active\"]\n",
    "    )\n",
    "    new_df = new_df.set_index(\"date\")\n",
    "    df = df.append(new_df)\n",
    "    print(df)\n",
    "    df.to_csv(OPTION_DB_PATH)"
   ]
  },
  {
   "cell_type": "code",
   "execution_count": 28,
   "metadata": {},
   "outputs": [
    {
     "name": "stdout",
     "output_type": "stream",
     "text": [
      "                              name  price  active\n",
      "date                                             \n",
      "2022-03-05 17:38:41.088546    init      0    True\n",
      "2022-03-05 17:38:41.353311  Amazon    780    True\n"
     ]
    }
   ],
   "source": [
    "add_subscription(\"Amazon\",780)"
   ]
  },
  {
   "cell_type": "code",
   "execution_count": null,
   "metadata": {},
   "outputs": [],
   "source": []
  },
  {
   "cell_type": "code",
   "execution_count": null,
   "metadata": {},
   "outputs": [],
   "source": [
    "def new_month():\n",
    "    pass "
   ]
  }
 ],
 "metadata": {
  "interpreter": {
   "hash": "8ca5b849fdede7b2c8206a2253c408622a13a5fb4f11e0a562493f10b5ac08a4"
  },
  "kernelspec": {
   "display_name": "Python 3.8.8 ('base')",
   "language": "python",
   "name": "python3"
  },
  "language_info": {
   "codemirror_mode": {
    "name": "ipython",
    "version": 3
   },
   "file_extension": ".py",
   "mimetype": "text/x-python",
   "name": "python",
   "nbconvert_exporter": "python",
   "pygments_lexer": "ipython3",
   "version": "3.8.8"
  },
  "orig_nbformat": 4
 },
 "nbformat": 4,
 "nbformat_minor": 2
}
