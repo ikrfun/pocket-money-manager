{
 "cells": [
  {
   "cell_type": "code",
   "execution_count": 61,
   "metadata": {},
   "outputs": [],
   "source": [
    "import pandas as pd\n",
    "import datetime as dt"
   ]
  },
  {
   "cell_type": "code",
   "execution_count": 62,
   "metadata": {},
   "outputs": [],
   "source": [
    "DF_PATH = r\"C:\\Users\\ikrfu\\pocket-money-manager\\logic\\db.csv\"\n",
    "def db_init(balance):\n",
    "    df = pd.DataFrame(\n",
    "        [[dt.datetime.today(),\"init\",0,int(balance)]],\n",
    "        columns=[\"date\",\"name\",\"price\",\"balance\"]\n",
    "    )\n",
    "    df = df.set_index(\"date\")\n",
    "    print(df)\n",
    "    df.to_csv(DF_PATH)"
   ]
  },
  {
   "cell_type": "code",
   "execution_count": 63,
   "metadata": {},
   "outputs": [
    {
     "name": "stdout",
     "output_type": "stream",
     "text": [
      "                            name  price  balance\n",
      "date                                            \n",
      "2022-03-05 15:40:01.464387  init      0        0\n"
     ]
    }
   ],
   "source": [
    "db_init(0)"
   ]
  },
  {
   "cell_type": "code",
   "execution_count": 64,
   "metadata": {},
   "outputs": [],
   "source": [
    "def Money_Move(price,name,pay=True):\n",
    "    df = pd.read_csv(DF_PATH,index_col=\"date\")\n",
    "    last_rest = df.iat[-1,2]\n",
    "    print(last_rest)\n",
    "    if pay:\n",
    "        balance = last_rest - price\n",
    "    else:\n",
    "        balance = last_rest + price\n",
    "\n",
    "    new_data = pd.DataFrame(\n",
    "        [[dt.datetime.today(),name,price,balance]],\n",
    "        columns=[\"date\",\"name\",\"price\",\"balance\"]\n",
    "    )\n",
    "    new_data = new_data.set_index(\"date\")\n",
    "    df = df.append(new_data)\n",
    "    print(df)\n",
    "    df.to_csv(DF_PATH)"
   ]
  },
  {
   "cell_type": "code",
   "execution_count": 65,
   "metadata": {},
   "outputs": [
    {
     "name": "stdout",
     "output_type": "stream",
     "text": [
      "0\n",
      "                            name  price  balance\n",
      "date                                            \n",
      "2022-03-05 15:40:01.464387  init      0        0\n",
      "2022-03-05 15:40:01.793240  チャージ   1000    -1000\n"
     ]
    }
   ],
   "source": [
    "Money_Move(1000,\"チャージ\")"
   ]
  },
  {
   "cell_type": "code",
   "execution_count": 67,
   "metadata": {},
   "outputs": [
    {
     "name": "stdout",
     "output_type": "stream",
     "text": [
      "0\n",
      "                            name  price  balance\n",
      "date                                            \n",
      "2022-03-05 15:40:01.464387  init      0        0\n",
      "2022-03-05 15:40:01.793240  チャージ   1000    -1000\n",
      "2022-03-05 15:40:38.600242    収入   1000        0\n",
      "2022-03-05 15:40:46.284124    収入  10000    10000\n"
     ]
    }
   ],
   "source": [
    "Money_Move(10000,\"収入\",pay=False)"
   ]
  },
  {
   "cell_type": "code",
   "execution_count": null,
   "metadata": {},
   "outputs": [],
   "source": []
  }
 ],
 "metadata": {
  "interpreter": {
   "hash": "587fa2e8cbe405c7bb049e73fd49e92d4215009dfb0f8f6052f766d7fc108e75"
  },
  "kernelspec": {
   "display_name": "Python 3.8.12 ('django-api')",
   "language": "python",
   "name": "python3"
  },
  "language_info": {
   "codemirror_mode": {
    "name": "ipython",
    "version": 3
   },
   "file_extension": ".py",
   "mimetype": "text/x-python",
   "name": "python",
   "nbconvert_exporter": "python",
   "pygments_lexer": "ipython3",
   "version": "3.9.7"
  },
  "orig_nbformat": 4
 },
 "nbformat": 4,
 "nbformat_minor": 2
}
