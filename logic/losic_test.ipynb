{
 "cells": [
  {
   "cell_type": "code",
   "execution_count": 8,
   "metadata": {},
   "outputs": [],
   "source": [
    "import pandas as pd\n",
    "import datetime as dt"
   ]
  },
  {
   "cell_type": "code",
   "execution_count": 20,
   "metadata": {},
   "outputs": [],
   "source": [
    "DF_PATH = r\"C:\\Users\\ikrfu\\pocket-money-manager\\logic\\db.csv\"\n",
    "def db_init(balance):\n",
    "    df = pd.DataFrame(\n",
    "        [[dt.datetime.today(),\"init\",0,int(balance)]],\n",
    "        columns=[\"date\",\"name\",\"price\",\"balance\"]\n",
    "    )\n",
    "    print(df)\n",
    "    df.to_csv(DF_PATH)\n",
    "\n",
    "def Money_Move(price,name,pay=True):\n",
    "    df = pd.read_csv(DF_PATH)\n",
    "    last_rest = df[\"balance\"]\n",
    "    if pay:\n",
    "        balance = last_rest - price\n",
    "    else:\n",
    "        balance = last_rest + price\n",
    "\n",
    "    new_data = pd.DataFrame(\n",
    "        [[dt.datetime.today(),name,price,balance]],\n",
    "        columns=[\"date\",\"name\",\"price\",\"balance\"]\n",
    "    )\n",
    "\n",
    "    df = df.append(new_data)\n",
    "    print(df)\n",
    "    df.to_csv(DF_PATH)\n",
    "\n",
    "    \n",
    "\n",
    "\n"
   ]
  },
  {
   "cell_type": "code",
   "execution_count": 21,
   "metadata": {},
   "outputs": [
    {
     "name": "stdout",
     "output_type": "stream",
     "text": [
      "                        date  name  price  balance\n",
      "0 2022-03-05 11:55:11.569190  init      0        0\n"
     ]
    }
   ],
   "source": [
    "db_init(0)"
   ]
  },
  {
   "cell_type": "code",
   "execution_count": 22,
   "metadata": {},
   "outputs": [
    {
     "name": "stdout",
     "output_type": "stream",
     "text": [
      "   Unnamed: 0                        date  name  price  \\\n",
      "0         0.0  2022-03-05 11:55:11.569190  init      0   \n",
      "0         NaN  2022-03-05 11:55:12.003938  チャージ   1000   \n",
      "\n",
      "                                 balance  \n",
      "0                                      0  \n",
      "0  0   -1000\n",
      "Name: balance, dtype: int64  \n"
     ]
    }
   ],
   "source": [
    "Money_Move(1000,\"チャージ\")"
   ]
  },
  {
   "cell_type": "code",
   "execution_count": null,
   "metadata": {},
   "outputs": [],
   "source": []
  }
 ],
 "metadata": {
  "interpreter": {
   "hash": "587fa2e8cbe405c7bb049e73fd49e92d4215009dfb0f8f6052f766d7fc108e75"
  },
  "kernelspec": {
   "display_name": "Python 3.8.12 ('django-api')",
   "language": "python",
   "name": "python3"
  },
  "language_info": {
   "codemirror_mode": {
    "name": "ipython",
    "version": 3
   },
   "file_extension": ".py",
   "mimetype": "text/x-python",
   "name": "python",
   "nbconvert_exporter": "python",
   "pygments_lexer": "ipython3",
   "version": "3.9.7"
  },
  "orig_nbformat": 4
 },
 "nbformat": 4,
 "nbformat_minor": 2
}
